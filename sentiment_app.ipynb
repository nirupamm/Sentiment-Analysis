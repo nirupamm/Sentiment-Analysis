{
 "cells": [
  {
   "cell_type": "code",
   "execution_count": 3,
   "id": "def98fac-f8b1-42b5-a863-ebd631a3aa28",
   "metadata": {},
   "outputs": [],
   "source": [
    "import streamlit as st\n",
    "import joblib\n",
    "\n",
    "# Load vectorizer and models\n",
    "vectorizer = joblib.load('vectorizer.joblib')\n",
    "models = {\n",
    "    'Logistic Regression': joblib.load('logreg.joblib'),\n",
    "    'Naive Bayes': joblib.load('nb.joblib'),\n",
    "    'Decision Tree': joblib.load('dt.joblib')\n",
    "}\n",
    "\n",
    "def predict_sentiment(text, model_choice='Logistic Regression'):\n",
    "    X_new = vectorizer.transform([text])\n",
    "    model = models[model_choice]\n",
    "    pred = model.predict(X_new)[0]\n",
    "    sentiment_map = {0: 'Negative', 1: 'Positive'}\n",
    "    return sentiment_map[pred]\n",
    "\n",
    "st.title(\"Sentiment Analysis\")\n",
    "st.write(\"Enter a movie review and select a model to predict its sentiment.\")\n",
    "\n",
    "user_text = st.text_area(\"Enter your review here:\")\n",
    "model_choice = st.selectbox(\"Choose model:\", ['Logistic Regression', 'Naive Bayes', 'Decision Tree'])\n",
    "\n",
    "if st.button(\"Predict Sentiment\"):\n",
    "    if user_text.strip() == \"\":\n",
    "        st.warning(\"Please enter a review.\")\n",
    "    else:\n",
    "        result = predict_sentiment(user_text, model_choice)\n",
    "        st.success(f\"Predicted Sentiment: {result}\")"
   ]
  }
 ],
 "metadata": {
  "kernelspec": {
   "display_name": "Python [conda env:base] *",
   "language": "python",
   "name": "conda-base-py"
  },
  "language_info": {
   "codemirror_mode": {
    "name": "ipython",
    "version": 3
   },
   "file_extension": ".py",
   "mimetype": "text/x-python",
   "name": "python",
   "nbconvert_exporter": "python",
   "pygments_lexer": "ipython3",
   "version": "3.12.7"
  }
 },
 "nbformat": 4,
 "nbformat_minor": 5
}
